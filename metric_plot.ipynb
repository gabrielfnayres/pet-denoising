{
 "cells": [
  {
   "cell_type": "code",
   "execution_count": 1,
   "metadata": {},
   "outputs": [],
   "source": [
    "import pandas as pd\n",
    "import numpy as np\n",
    "import torch\n",
    "import torch.nn as nn \n",
    "\n",
    "import matplotlib.pyplot as plt"
   ]
  },
  {
   "cell_type": "code",
   "execution_count": 3,
   "metadata": {},
   "outputs": [],
   "source": [
    "df = pd.read_csv(\"/Users/fnayres/upenn/Full-dose-Whole-body-PET-Synthesis-from-Low-dose-PET-Using-Consistency-Model/results/evaluation/detailed_metrics.csv\")"
   ]
  },
  {
   "cell_type": "code",
   "execution_count": 4,
   "metadata": {},
   "outputs": [
    {
     "data": {
      "text/html": [
       "<div>\n",
       "<style scoped>\n",
       "    .dataframe tbody tr th:only-of-type {\n",
       "        vertical-align: middle;\n",
       "    }\n",
       "\n",
       "    .dataframe tbody tr th {\n",
       "        vertical-align: top;\n",
       "    }\n",
       "\n",
       "    .dataframe thead th {\n",
       "        text-align: right;\n",
       "    }\n",
       "</style>\n",
       "<table border=\"1\" class=\"dataframe\">\n",
       "  <thead>\n",
       "    <tr style=\"text-align: right;\">\n",
       "      <th></th>\n",
       "      <th>MAE</th>\n",
       "      <th>MSE</th>\n",
       "      <th>RMSE</th>\n",
       "      <th>NRMSE</th>\n",
       "      <th>PSNR</th>\n",
       "      <th>SSIM</th>\n",
       "      <th>filename</th>\n",
       "    </tr>\n",
       "  </thead>\n",
       "  <tbody>\n",
       "    <tr>\n",
       "      <th>0</th>\n",
       "      <td>1.336693</td>\n",
       "      <td>1.804469</td>\n",
       "      <td>1.343305</td>\n",
       "      <td>inf</td>\n",
       "      <td>-1.524108</td>\n",
       "      <td>-0.039879</td>\n",
       "      <td>Patient_slice1.mat</td>\n",
       "    </tr>\n",
       "    <tr>\n",
       "      <th>1</th>\n",
       "      <td>0.531401</td>\n",
       "      <td>0.305182</td>\n",
       "      <td>0.552433</td>\n",
       "      <td>0.276216</td>\n",
       "      <td>11.175010</td>\n",
       "      <td>0.175671</td>\n",
       "      <td>Patient_slice2.mat</td>\n",
       "    </tr>\n",
       "  </tbody>\n",
       "</table>\n",
       "</div>"
      ],
      "text/plain": [
       "        MAE       MSE      RMSE     NRMSE       PSNR      SSIM  \\\n",
       "0  1.336693  1.804469  1.343305       inf  -1.524108 -0.039879   \n",
       "1  0.531401  0.305182  0.552433  0.276216  11.175010  0.175671   \n",
       "\n",
       "             filename  \n",
       "0  Patient_slice1.mat  \n",
       "1  Patient_slice2.mat  "
      ]
     },
     "execution_count": 4,
     "metadata": {},
     "output_type": "execute_result"
    }
   ],
   "source": [
    "df.head()"
   ]
  },
  {
   "cell_type": "code",
   "execution_count": 5,
   "metadata": {},
   "outputs": [
    {
     "data": {
      "text/html": [
       "<div>\n",
       "<style scoped>\n",
       "    .dataframe tbody tr th:only-of-type {\n",
       "        vertical-align: middle;\n",
       "    }\n",
       "\n",
       "    .dataframe tbody tr th {\n",
       "        vertical-align: top;\n",
       "    }\n",
       "\n",
       "    .dataframe thead th {\n",
       "        text-align: right;\n",
       "    }\n",
       "</style>\n",
       "<table border=\"1\" class=\"dataframe\">\n",
       "  <thead>\n",
       "    <tr style=\"text-align: right;\">\n",
       "      <th></th>\n",
       "      <th>MAE</th>\n",
       "      <th>MSE</th>\n",
       "      <th>RMSE</th>\n",
       "      <th>NRMSE</th>\n",
       "      <th>PSNR</th>\n",
       "      <th>SSIM</th>\n",
       "      <th>filename</th>\n",
       "    </tr>\n",
       "  </thead>\n",
       "  <tbody>\n",
       "    <tr>\n",
       "      <th>0</th>\n",
       "      <td>1.336693</td>\n",
       "      <td>1.804469</td>\n",
       "      <td>1.343305</td>\n",
       "      <td>inf</td>\n",
       "      <td>-1.524108</td>\n",
       "      <td>-0.039879</td>\n",
       "      <td>Patient_slice1.mat</td>\n",
       "    </tr>\n",
       "    <tr>\n",
       "      <th>1</th>\n",
       "      <td>0.531401</td>\n",
       "      <td>0.305182</td>\n",
       "      <td>0.552433</td>\n",
       "      <td>0.276216</td>\n",
       "      <td>11.175010</td>\n",
       "      <td>0.175671</td>\n",
       "      <td>Patient_slice2.mat</td>\n",
       "    </tr>\n",
       "  </tbody>\n",
       "</table>\n",
       "</div>"
      ],
      "text/plain": [
       "        MAE       MSE      RMSE     NRMSE       PSNR      SSIM  \\\n",
       "0  1.336693  1.804469  1.343305       inf  -1.524108 -0.039879   \n",
       "1  0.531401  0.305182  0.552433  0.276216  11.175010  0.175671   \n",
       "\n",
       "             filename  \n",
       "0  Patient_slice1.mat  \n",
       "1  Patient_slice2.mat  "
      ]
     },
     "execution_count": 5,
     "metadata": {},
     "output_type": "execute_result"
    }
   ],
   "source": [
    "df"
   ]
  },
  {
   "cell_type": "code",
   "execution_count": null,
   "metadata": {},
   "outputs": [],
   "source": []
  }
 ],
 "metadata": {
  "kernelspec": {
   "display_name": "base",
   "language": "python",
   "name": "python3"
  },
  "language_info": {
   "codemirror_mode": {
    "name": "ipython",
    "version": 3
   },
   "file_extension": ".py",
   "mimetype": "text/x-python",
   "name": "python",
   "nbconvert_exporter": "python",
   "pygments_lexer": "ipython3",
   "version": "3.12.7"
  }
 },
 "nbformat": 4,
 "nbformat_minor": 2
}
